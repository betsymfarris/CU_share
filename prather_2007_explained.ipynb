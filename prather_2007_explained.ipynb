{
 "cells": [
  {
   "cell_type": "markdown",
   "id": "e12d281a-084f-40ba-bae7-ccb22a07b57d",
   "metadata": {},
   "source": [
    "## This notebook was created to replicate Michael Prather's 2007 paper \"Lifetimes and time scales in atmoshperic chemistry\" for the \"Tropospheric methane chemistry:delayed recovery of a perturbation\" section. \n",
    "\n",
    "Betsy Farris\n",
    "for Chem 5152, 2025 (CU Boulder)\n",
    "Student Choice Project"
   ]
  },
  {
   "cell_type": "code",
   "execution_count": 1,
   "id": "88e0aa16-8dc3-4b76-acd2-6cb9ab09b30e",
   "metadata": {},
   "outputs": [],
   "source": [
    "import numpy as np\n",
    "import matplotlib.pyplot as plt\n",
    "from scipy.optimize import curve_fit"
   ]
  },
  {
   "cell_type": "markdown",
   "id": "f95164dd-6115-421c-849d-5b9e75d7fced",
   "metadata": {},
   "source": [
    "## Create the Jacobian"
   ]
  },
  {
   "cell_type": "code",
   "execution_count": 2,
   "id": "3b66cd06-a10a-461e-8f35-9b445618b1c3",
   "metadata": {},
   "outputs": [
    {
     "name": "stdout",
     "output_type": "stream",
     "text": [
      "Jacobian J (∂(d[species]/dt)/∂[species]) in ppb/yr per ppb:\n",
      "∂(d[CH4]/dt)/∂[CH4] = -1.038829e-01\n",
      "∂(d[CH4]/dt)/∂[CO] = 0.000000e+00\n",
      "∂(d[CH4]/dt)/∂[OH] = -6.808325e+06\n",
      "∂(d[CO]/dt)/∂[CH4] = 1.038829e-01\n",
      "∂(d[CO]/dt)/∂[CO] = -4.168445e+00\n",
      "∂(d[CO]/dt)/∂[OH] = -9.224155e+06\n",
      "∂(d[OH]/dt)/∂[CH4] = -1.038829e-01\n",
      "∂(d[OH]/dt)/∂[CO] = -4.168445e+00\n",
      "∂(d[OH]/dt)/∂[OH] = -5.635753e+07\n"
     ]
    }
   ],
   "source": [
    "# From Prather, X value estimated from his final Jacobian values\n",
    "\n",
    "# Initial mixing ratios (ppb)\n",
    "y = np.array([1704, 100, 0.000026])  # [CH4, CO, OH] # modern global mean = 1938 ppb; Prather 2007 = 1704 ppb for methane\n",
    "x_ppb = 0.001  # External sink species (held constant)\n",
    "\n",
    "# Source Terms (ppb yr-1)\n",
    "S = np.array([177, 240, 1464])  # [S_CH4, S_CO, S_OH]\n",
    "\n",
    "# Reaction rates (converted to per year)\n",
    "k5 = 1.266e-4 * 3.156e7  # CH4 + OH (yr-1 ppb-1)\n",
    "k6 = 5.08e-3 * 3.156e7   # CO + OH (yr-1 ppb-1)\n",
    "k7 = 1062 * 3.156e7      # OH + X (yr-1)\n",
    "\n",
    "# Reaction function with x included only internally\n",
    "def reaction_rates(y):\n",
    "    ch4, co, oh = y\n",
    "    R5 = k5 * ch4 * oh\n",
    "    R6 = k6 * co * oh\n",
    "    R7 = k7 * oh * x_ppb  # OH loss to external X\n",
    "    dCH4dt = S[0] - R5\n",
    "    dCOdt = S[1] + R5 - R6\n",
    "    dOHdt = S[2] - R5 - R6 - R7\n",
    "    return np.array([dCH4dt, dCOdt, dOHdt])\n",
    "\n",
    "# Base rate\n",
    "base_rates_co = reaction_rates(y)\n",
    "\n",
    "# Jacobian (numerical)\n",
    "pert = 1  # 1 ppb\n",
    "J_co = np.zeros((3, 3))\n",
    "\n",
    "for i in range(3):\n",
    "    y_pert = y.copy()\n",
    "    y_pert[i] += pert\n",
    "    pert_rates = reaction_rates(y_pert)\n",
    "    J_co[:, i] = (pert_rates - base_rates_co) / pert\n",
    "\n",
    "# Display Jacobian\n",
    "species = [\"CH4\", \"CO\", \"OH\"]\n",
    "print(\"Jacobian J (∂(d[species]/dt)/∂[species]) in ppb/yr per ppb:\")\n",
    "for i in range(3):\n",
    "    for j in range(3):\n",
    "        print(f\"∂(d[{species[i]}]/dt)/∂[{species[j]}] = {J_co[i,j]:.6e}\")\n"
   ]
  },
  {
   "cell_type": "markdown",
   "id": "3728d717-4215-440a-9e07-06f91a08ea0c",
   "metadata": {},
   "source": [
    "## Compute eigenvalues and eigenvectors to find modes"
   ]
  },
  {
   "cell_type": "code",
   "execution_count": 4,
   "id": "e0a24f6c-4342-42cd-b3fa-0d60fb196f59",
   "metadata": {},
   "outputs": [
    {
     "name": "stdout",
     "output_type": "stream",
     "text": [
      "Eigenvalues:\n",
      "  λ1 = -5.6358e+07\n",
      "  λ2 = -7.3495e-02\n",
      "  λ3 = -3.5040e+00\n",
      "\n",
      "Perturbation lifetimes (in years):\n",
      "  Mode 1: 0.000000018 years\n",
      "  Mode 2: 13.606280603 years\n",
      "  Mode 3: 0.285386143 years\n",
      "\n",
      "Eigenvectors (columns are eigenmodes):\n",
      "[[ 1.18381327e-01 -9.99373217e-01 -1.45978241e-01]\n",
      " [ 1.60387135e-01 -3.54001732e-02  9.89287801e-01]\n",
      " [ 9.79929502e-01  4.46047713e-09 -7.29029032e-08]]\n"
     ]
    }
   ],
   "source": [
    "eigenvalues_co, eigenvectors_co = np.linalg.eig(J_co)\n",
    "\n",
    "# Compute lifetimes (in years)\n",
    "T_years_co = -1 / eigenvalues_co\n",
    "\n",
    "# Print results\n",
    "print(\"Eigenvalues:\")\n",
    "for i, val in enumerate(eigenvalues_co):\n",
    "    print(f\"  λ{i+1} = {val:.4e}\")\n",
    "\n",
    "print(\"\\nPerturbation lifetimes (in years):\")\n",
    "for i, T in enumerate(T_years_co):\n",
    "    print(f\"  Mode {i+1}: {T.real:.9f} years\")\n",
    "\n",
    "print(\"\\nEigenvectors (columns are eigenmodes):\")\n",
    "print(eigenvectors_co)\n",
    "\n",
    "\n",
    "\n",
    "t = np.arange(0, 100, 5)\n",
    "delta_ch4_1ppb_co = 0.995*np.exp(-t/T_years_co[1])+0.005*np.exp(-t/T_years_co[2])\n",
    "\n",
    "delta_ch4_trad = np.exp(-t/9.626224)"
   ]
  },
  {
   "cell_type": "markdown",
   "id": "d4bb5c93-8926-4716-82ed-4a1fdd41cb0c",
   "metadata": {},
   "source": [
    "## Coefficients for 1ppb pertubation CH4"
   ]
  },
  {
   "cell_type": "code",
   "execution_count": 5,
   "id": "ed752616-4408-40b0-872e-4f4f74516d79",
   "metadata": {},
   "outputs": [
    {
     "name": "stdout",
     "output_type": "stream",
     "text": [
      "Mode 1:\n",
      "  Eigenvalue (decay rate): -56357525.8788\n",
      "  Lifetime: 0.00 years\n",
      "  Contribution coefficient: 0.0000\n",
      "Mode 2:\n",
      "  Eigenvalue (decay rate): -0.0735\n",
      "  Lifetime: 13.61 years\n",
      "  Contribution coefficient: -0.9954\n",
      "Mode 3:\n",
      "  Eigenvalue (decay rate): -3.5040\n",
      "  Lifetime: 0.29 years\n",
      "  Contribution coefficient: -0.0356\n"
     ]
    }
   ],
   "source": [
    "# Checking delta_ch4_1ppb equation from matrix projection (not just copying Prather's text)\n",
    "\n",
    "# X0 = V*c where c is intial conditions\n",
    "# so c=V_inverse*X0\n",
    "# Methane looks right but CO is lower than Prather's 0.005 (ignored OH)\n",
    "\n",
    "Init_1ppb_co = np.array( [1, 0, 0] ) #sticking with 3x3 even though Prather drops OH\n",
    "V_inv_co = np.linalg.inv(eigenvectors_co) #inverse of the eignvectors\n",
    "coeffs_co = V_inv_co @ Init_1ppb_co\n",
    "\n",
    "for i in range(3):\n",
    "    print(f\"Mode {i+1}:\")\n",
    "    print(f\"  Eigenvalue (decay rate): {eigenvalues_co[i]:.4f}\")\n",
    "    print(f\"  Lifetime: {-1/eigenvalues_co[i]:.2f} years\")\n",
    "    print(f\"  Contribution coefficient: {coeffs_co[i]:.4f}\")\n",
    "\n",
    "delta_ch4_1ppb_co = abs(coeffs_co[1])*np.exp(-t/T_years_co[1])+abs(coeffs_co[2])*np.exp(-t/T_years_co[2])"
   ]
  },
  {
   "cell_type": "code",
   "execution_count": 6,
   "id": "86767e89-a274-45f5-b42b-d964754cd63c",
   "metadata": {},
   "outputs": [
    {
     "data": {
      "text/plain": [
       "<matplotlib.legend.Legend at 0x11acac450>"
      ]
     },
     "execution_count": 6,
     "metadata": {},
     "output_type": "execute_result"
    },
    {
     "data": {
      "image/png": "[encoded data removed]",
      "text/plain": [
       "<Figure size 640x480 with 1 Axes>"
      ]
     },
     "metadata": {},
     "output_type": "display_data"
    }
   ],
   "source": [
    "plt.plot(t,1850*delta_ch4_1ppb_co)\n",
    "plt.plot(t, 1850*delta_ch4_trad)\n",
    "plt.xlabel('Years')\n",
    "plt.ylabel(\"Relative CH4 Abundance (ppb)\")\n",
    "plt.legend([\"Pert. Lifetime\", \"SS Lifetime\"])"
   ]
  },
  {
   "cell_type": "code",
   "execution_count": 7,
   "id": "20b9c2f9-1e77-4dfd-975f-93f5c8f31f3e",
   "metadata": {},
   "outputs": [
    {
     "name": "stdout",
     "output_type": "stream",
     "text": [
      "Negative Inverse of Diagonal of Jacobian (∂(d[species]/dt)/∂[same species]): Traditional Lifetime\n",
      "∂(d[CH4]/dt)/∂[CH4] = 9.626224e+00\n",
      "∂(d[CO]/dt)/∂[CO] = 2.398976e-01\n",
      "∂(d[OH]/dt)/∂[OH] = 1.774386e-08\n"
     ]
    }
   ],
   "source": [
    "diag_co = np.diag(J_co)\n",
    "species = [\"CH4\", \"CO\", \"OH\"]\n",
    "\n",
    "print(\"Negative Inverse of Diagonal of Jacobian (∂(d[species]/dt)/∂[same species]): Traditional Lifetime\")\n",
    "for i in range(3):\n",
    "    print(f\"∂(d[{species[i]}]/dt)/∂[{species[i]}] = {-1/diag_co[i]:.6e}\")"
   ]
  },
  {
   "cell_type": "markdown",
   "id": "5afa22d1-7563-402c-8a4b-6b22c5b34c69",
   "metadata": {},
   "source": [
    "## Extending Chemical Coupling to HCHO:\n",
    "Question asked-- how would including HCHO in the Prather's model change the lifetime of CH4?\n",
    "- How does HCHO's lifetime compare to its formation from CH4\n",
    "- how does photolysis reate of removal compare to its oxidation (taking away from OH from CH4)"
   ]
  },
  {
   "cell_type": "markdown",
   "id": "21ba22cd-69e6-4593-bfe8-4870c8bae479",
   "metadata": {},
   "source": [
    "From TUV-X: https://www.acom.ucar.edu/Models/TUV/Interactive_TUV/tuv-x.shtml\\\n",
    "Photolysis Rates of HCHO (Boulder 19h 20230308)\\\n",
    "30 CH2O+hv->H+HCO                          2.69873e-05\\\n",
    "31 CH2O+hv->H2+CO                          4.23498e-05\\\n",
    "\\\n",
    "From IUPAC:\\\n",
    "k = 8.5 x 10-12 cm3 molecule-1 s-1 at 298 K. (HO + HCHO --> H2O + HCO)\\\n",
    "k = 7.9 x 10-14 cm3 molecule-1 s-1 at 298 K. (HO2 + HCHO --> HOCH2OO)\n",
    "\n",
    "Source and Steady State Concentrations: \n",
    "https://acp.copernicus.org/articles/23/2997/2023/\n",
    "# Source and Steady State Concentrations\n",
    "S_hcho = 0.73*8765 #  (ppb/year)\\\n",
    "hcho = 2 #ppb\\ "
   ]
  },
  {
   "cell_type": "code",
   "execution_count": 8,
   "id": "301a4eae-99ea-4fd9-a8bc-64ea5c11994a",
   "metadata": {},
   "outputs": [
    {
     "name": "stdout",
     "output_type": "stream",
     "text": [
      "ks: 6599196.0 yr-1 ppb-1 HCHO vs 0.00308 yr-1 ppb-1 CO\n",
      "Sources: 6398.45 ppb yr-1 HCHO vs 240 ppb yr-1\n"
     ]
    }
   ],
   "source": [
    "# Print Values for Comparision with CO\n",
    "k_hcho_cm = 8.5e-12 #cm3/molecules/s\n",
    "k_hcho_ppb = k_hcho_cm*3.156e7*2.46e10 #(ppb/year)\n",
    "print(f\"ks: {k_hcho_ppb} yr-1 ppb-1 HCHO vs {3.08e-3} yr-1 ppb-1 CO\" )\n",
    "print(f\"Sources: {0.73*8765} ppb yr-1 HCHO vs 240 ppb yr-1\")\n"
   ]
  },
  {
   "cell_type": "markdown",
   "id": "102a1b97-f825-430d-adb2-30eeecbcd1cb",
   "metadata": {},
   "source": [
    "## Redo with HCHO instead of CO"
   ]
  },
  {
   "cell_type": "code",
   "execution_count": 9,
   "id": "926d804c-f6d2-4424-823a-6518e56b9a41",
   "metadata": {},
   "outputs": [
    {
     "name": "stdout",
     "output_type": "stream",
     "text": [
      "Jacobian J (∂(d[species]/dt)/∂[species]) in ppb/yr per ppb:\n",
      "∂(d[CH4]/dt)/∂[CH4] = -1.038829e-01\n",
      "∂(d[CH4]/dt)/∂[HCHO] = 0.000000e+00\n",
      "∂(d[CH4]/dt)/∂[OH] = -6.808325e+06\n",
      "∂(d[HCHO]/dt)/∂[CH4] = -1.681465e+04\n",
      "∂(d[HCHO]/dt)/∂[HCHO] = -1.698633e+04\n",
      "∂(d[HCHO]/dt)/∂[OH] = -6.531281e+08\n",
      "∂(d[OH]/dt)/∂[CH4] = -1.681486e+04\n",
      "∂(d[OH]/dt)/∂[HCHO] = -1.698633e+04\n",
      "∂(d[OH]/dt)/∂[OH] = -7.002615e+08\n",
      "Eigenvalues:\n",
      "  λ1 = -7.0028e+08\n",
      "  λ2 = -8.6195e-02\n",
      "  λ3 = -9.7983e+02\n",
      "\n",
      "Perturbation lifetimes (in years):\n",
      "  Mode 1: 0.000000001 years\n",
      "  Mode 2: 11.601568746 years\n",
      "  Mode 3: 0.001020583 years\n",
      "\n",
      "Eigenvectors (columns are eigenmodes):\n",
      "[[-7.10964675e-03 -7.10722883e-01  1.42977764e-01]\n",
      " [-6.82050824e-01  7.03472092e-01 -9.89725901e-01]\n",
      " [-7.31270214e-01  1.84641915e-09  2.05747165e-05]]\n",
      "Mode 1:\n",
      "  Eigenvalue (decay rate): -700277466.4514\n",
      "  Lifetime: 0.00 years, 0.00 hours\n",
      "  Contribution coefficient: -0.0000\n",
      "Mode 2:\n",
      "  Eigenvalue (decay rate): -0.0862\n",
      "  Lifetime: 11.60 years, 101629.74 hours\n",
      "  Contribution coefficient: -1.6418\n",
      "Mode 3:\n",
      "  Eigenvalue (decay rate): -979.8322\n",
      "  Lifetime: 0.00 years, 8.94 hours\n",
      "  Contribution coefficient: -1.1669\n"
     ]
    }
   ],
   "source": [
    "# From Prather, X value estimated from his final Jacobian values\n",
    "\n",
    "# Initial mixing ratios (ppb)\n",
    "y_hcho = np.array([1704, 2, 0.000026])  # [CH4, CO, OH] # modern global mean = 1938 ppb; Prather 2007 = 1704 ppb for methane\n",
    "x_ppb = 0.001  # External sink species (held constant)\n",
    "\n",
    "# Source Terms (ppb yr-1)\n",
    "S_hcho = np.array([177, 0.73*8765, 1464])  # [S_CH4, S_CO, S_OH]\n",
    "\n",
    "# Reaction rates (converted to per year)\n",
    "k5 = 1.266e-4 * 3.156e7  # CH4 + OH (yr-1 ppb-1) -- ASSUMES formation of CO still !!!!\n",
    "k6 = 8.5e-12 * 3.156e7*2.46e10 #(ppb/year)   # HCHO + OH (yr-1 ppb-1)\n",
    "k7 = 1062 * 3.156e7      # OH + X (yr-1)\n",
    "\n",
    "# Reaction function with x included only internally\n",
    "def reaction_rates(y_hcho):\n",
    "    ch4, hcho, oh = y_hcho\n",
    "    R5 = k5 * ch4 * oh\n",
    "    R6 = k6 * hcho * oh\n",
    "    R7 = k7 * oh * x_ppb  # OH loss to external X\n",
    "    dCH4dt = S_hcho[0] - R5\n",
    "    dHCHOdt = S_hcho[1] + R5 - R6\n",
    "    dOHdt = S_hcho[2] - R5 - R6 - R7\n",
    "    return np.array([dCH4dt, dHCHOdt, dOHdt])\n",
    "\n",
    "# Base rate\n",
    "base_rates_hcho = reaction_rates(y_hcho)\n",
    "\n",
    "# Jacobian (numerical): perturb each species by +1ppb and take the difference from the base case; divide by 1 ppb\n",
    "pert = 1  # 1 ppb\n",
    "J_hcho = np.zeros((3, 3))\n",
    "\n",
    "for i in range(3):\n",
    "    y_pert = y.copy()\n",
    "    y_pert[i] += pert #each species\n",
    "    pert_rates = reaction_rates(y_pert) # calc rates with pert.\n",
    "    J_hcho[:, i] = (pert_rates - base_rates_hcho) / pert #save to J\n",
    "\n",
    "# Display Jacobian\n",
    "species = [\"CH4\", \"HCHO\", \"OH\"]\n",
    "print(\"Jacobian J (∂(d[species]/dt)/∂[species]) in ppb/yr per ppb:\")\n",
    "for i in range(3):\n",
    "    for j in range(3):\n",
    "        print(f\"∂(d[{species[i]}]/dt)/∂[{species[j]}] = {J_hcho[i,j]:.6e}\")\n",
    "#%%%%%%%%%%\n",
    "# Eigenvalue Decomp\n",
    "#%%%%%%%%%%%\n",
    "\n",
    "eigenvalues_hcho, eigenvectors_hcho = np.linalg.eig(J_hcho)\n",
    "\n",
    "# Compute lifetimes (in years)\n",
    "T_years_hcho = -1 / eigenvalues_hcho\n",
    "\n",
    "# Print results\n",
    "print(\"Eigenvalues:\")\n",
    "for i, val in enumerate(eigenvalues_hcho):\n",
    "    print(f\"  λ{i+1} = {val:.4e}\")\n",
    "\n",
    "print(\"\\nPerturbation lifetimes (in years):\")\n",
    "for i, T in enumerate(T_years_hcho):\n",
    "    print(f\"  Mode {i+1}: {T.real:.9f} years\")\n",
    "\n",
    "print(\"\\nEigenvectors (columns are eigenmodes):\")\n",
    "print(eigenvectors_hcho)\n",
    "\n",
    "#initial Conditions solving for C\n",
    "Init_1ppb_hcho = np.array( [1, 0, 0] ) #sticking with 3x3 even though Prather drops OH\n",
    "V_inv_hcho = np.linalg.inv(eigenvectors_hcho) #inverse of the eignvectors\n",
    "coeffs_hcho = V_inv_hcho @ Init_1ppb_hcho\n",
    "\n",
    "for i in range(3):\n",
    "    print(f\"Mode {i+1}:\")\n",
    "    print(f\"  Eigenvalue (decay rate): {eigenvalues_hcho[i]:.4f}\")\n",
    "    print(f\"  Lifetime: {-1/eigenvalues_hcho[i]:.2f} years, {-1/eigenvalues_hcho[i]*8760:.2f} hours\")\n",
    "    print(f\"  Contribution coefficient: {coeffs_hcho[i]:.4f}\")\n"
   ]
  },
  {
   "cell_type": "markdown",
   "id": "8a4953b2-b764-4561-901f-31b22e86b0ac",
   "metadata": {},
   "source": [
    "## Accounting for HCHO Photolysis\n",
    "jph = photolysis coeff for HCHO+hv in s-1\\\n",
    "from NCAR TUV-x (https://www.acom.ucar.edu/Models/TUV/Interactive_TUV/tuv-x.shtml) \\\n",
    "Boulder 3/8/2023, 19h \\\n",
    "30 CH2O+hv->H+HCO                          2.69873e-05 \\\n",
    "31 CH2O+hv->H2+CO                          4.23498e-05 \\"
   ]
  },
  {
   "cell_type": "code",
   "execution_count": 28,
   "id": "e01a955b-63da-44f0-9118-10f237e37887",
   "metadata": {},
   "outputs": [
    {
     "name": "stdout",
     "output_type": "stream",
     "text": [
      "Jacobian J (∂(d[species]/dt)/∂[species]) in ppb/yr per ppb:\n",
      "∂(d[CH4]/dt)/∂[CH4] = -1.038829e-01\n",
      "∂(d[CH4]/dt)/∂[HCHO] = 0.000000e+00\n",
      "∂(d[CH4]/dt)/∂[OH] = -6.808325e+06\n",
      "∂(d[HCHO]/dt)/∂[CH4] = -5.856853e+04\n",
      "∂(d[HCHO]/dt)/∂[HCHO] = -5.916627e+04\n",
      "∂(d[HCHO]/dt)/∂[OH] = -6.531698e+08\n",
      "∂(d[OH]/dt)/∂[CH4] = -1.681486e+04\n",
      "∂(d[OH]/dt)/∂[HCHO] = -1.698633e+04\n",
      "∂(d[OH]/dt)/∂[OH] = -7.002615e+08\n",
      "Eigenvalues:\n",
      "  λ1 = -7.0028e+08\n",
      "  λ2 = -1.0249e-01\n",
      "  λ3 = -4.3158e+04\n",
      "\n",
      "Perturbation lifetimes (in years):\n",
      "  Mode 1: 0.000000001 years\n",
      "  Mode 2: 9.756643557 years\n",
      "  Mode 3: 0.000023171 years\n",
      "\n",
      "Eigenvectors (columns are eigenmodes):\n",
      "[[ 7.10923402e-03  7.10687814e-01  3.81244061e-03]\n",
      " [ 6.82096339e-01 -7.03507520e-01 -9.99992732e-01]\n",
      " [ 7.31227764e-01 -1.44952522e-10  2.41668939e-05]]\n",
      "Mode 1:\n",
      "  Eigenvalue (decay rate): -700277468.4285\n",
      "  Lifetime: 0.00 years, 0.00 hours, 0.05 sec\n",
      "  Contribution coefficient: 0.0000\n",
      "Mode 2:\n",
      "  Eigenvalue (decay rate): -0.1025\n",
      "  Lifetime: 9.76 years, 85468.20 hours, 307685511.23 sec\n",
      "  Contribution coefficient: 1.4124\n",
      "Mode 3:\n",
      "  Eigenvalue (decay rate): -43157.7788\n",
      "  Lifetime: 0.00 years, 0.20 hours, 730.71 sec\n",
      "  Contribution coefficient: -0.9936\n"
     ]
    }
   ],
   "source": [
    "jph_tuvx = (2.7e-5)/2 # s^-1, #using average rate\n",
    "\n",
    "# From Prather, X value estimated from his final Jacobian values\n",
    "\n",
    "# Initial mixing ratios (ppb)\n",
    "y_hcho_hv = np.array([1704, 2, 0.000026])  # [CH4, CO, OH] # modern global mean = 1938 ppb; Prather 2007 = 1704 ppb for methane\n",
    "x_ppb = 0.001  # External sink species (held constant)\n",
    "\n",
    "# Source Terms (ppb yr-1)\n",
    "S_hcho_hv = np.array([177, 0.73*8765, 1464])  # [S_CH4, S_CO, S_OH]\n",
    "\n",
    "# Reaction rates (converted to per year)\n",
    "k5 = 1.266e-4 * 3.156e7  # CH4 + OH (yr-1 ppb-1) -- ASSUMES formation of CO still !!!!\n",
    "k6 = 8.5e-12 * 3.156e7*2.46e10 #(ppb/year)   # HCHO + OH (yr-1 ppb-1)\n",
    "k7 = 1062 * 3.156e7      # OH + X (yr-1)\n",
    "j8 = jph_tuvx * 3.156e7 # (yr-1)\n",
    "\n",
    "# Reaction function with x included only internally\n",
    "def reaction_rates(y_hcho_hv):\n",
    "    ch4, hcho, oh = y_hcho_hv\n",
    "    R5 = k5 * ch4 * oh\n",
    "    R6 = k6 * hcho * oh\n",
    "    R7 = k7 * oh * x_ppb  # OH loss to external X\n",
    "    R8 = j8 * hcho #loss due to photolysis\n",
    "    dCH4dt = S_hcho_hv[0] - R5\n",
    "    dHCHOdt = S_hcho_hv[1] + R5 - R6 - R8\n",
    "    dOHdt = S_hcho_hv[2] - R5 - R6 - R7\n",
    "    return np.array([dCH4dt, dHCHOdt, dOHdt])\n",
    "\n",
    "# Base rate\n",
    "base_rates_hcho_hv = reaction_rates(y_hcho_hv)\n",
    "\n",
    "# Jacobian (numerical): perturb each species by +1ppb and take the difference from the base case; divide by 1 ppb\n",
    "pert = 1  # 1 ppb\n",
    "J_hcho_hv = np.zeros((3, 3))\n",
    "\n",
    "for i in range(3):\n",
    "    y_pert = y.copy()\n",
    "    y_pert[i] += pert #each species\n",
    "    pert_rates = reaction_rates(y_pert) # calc rates with pert.\n",
    "    J_hcho_hv[:, i] = (pert_rates - base_rates_hcho_hv) / pert #save to J\n",
    "\n",
    "# Display Jacobian\n",
    "species = [\"CH4\", \"HCHO\", \"OH\"]\n",
    "print(\"Jacobian J (∂(d[species]/dt)/∂[species]) in ppb/yr per ppb:\")\n",
    "for i in range(3):\n",
    "    for j in range(3):\n",
    "        print(f\"∂(d[{species[i]}]/dt)/∂[{species[j]}] = {J_hcho_hv[i,j]:.6e}\")\n",
    "#%%%%%%%%%%\n",
    "# Eigenvalue Decomp\n",
    "#%%%%%%%%%%%\n",
    "\n",
    "eigenvalues_hcho_hv, eigenvectors_hcho_hv = np.linalg.eig(J_hcho_hv)\n",
    "\n",
    "# Compute lifetimes (in years)\n",
    "T_years_hcho_hv = -1 / eigenvalues_hcho_hv\n",
    "\n",
    "# Print results\n",
    "print(\"Eigenvalues:\")\n",
    "for i, val in enumerate(eigenvalues_hcho_hv):\n",
    "    print(f\"  λ{i+1} = {val:.4e}\")\n",
    "\n",
    "print(\"\\nPerturbation lifetimes (in years):\")\n",
    "for i, T in enumerate(T_years_hcho_hv):\n",
    "    print(f\"  Mode {i+1}: {T.real:.9f} years\")\n",
    "\n",
    "print(\"\\nEigenvectors (columns are eigenmodes):\")\n",
    "print(eigenvectors_hcho_hv)\n",
    "\n",
    "#initial Conditions solving for C\n",
    "Init_1ppb_hcho_hv = np.array( [1, 0, 0] ) #sticking with 3x3 even though Prather drops OH\n",
    "V_inv_hcho_hv = np.linalg.inv(eigenvectors_hcho_hv) #inverse of the eignvectors\n",
    "coeffs_hcho_hv = V_inv_hcho_hv @ Init_1ppb_hcho_hv\n",
    "\n",
    "for i in range(3):\n",
    "    print(f\"Mode {i+1}:\")\n",
    "    print(f\"  Eigenvalue (decay rate): {eigenvalues_hcho_hv[i]:.4f}\")\n",
    "    print(f\"  Lifetime: {-1/eigenvalues_hcho_hv[i]:.2f} years, {-1/eigenvalues_hcho_hv[i]*8760:.2f} hours, {-1/eigenvalues_hcho_hv[i]*8760*3600:.2f} sec\")\n",
    "    print(f\"  Contribution coefficient: {coeffs_hcho_hv[i]:.4f}\")\n"
   ]
  },
  {
   "cell_type": "code",
   "execution_count": 30,
   "id": "0d759719-7ef9-4321-b74f-a0f62cf4e72e",
   "metadata": {},
   "outputs": [
    {
     "data": {
      "image/png": "[encoded data removed]",
      "text/plain": [
       "<Figure size 640x480 with 1 Axes>"
      ]
     },
     "metadata": {},
     "output_type": "display_data"
    }
   ],
   "source": [
    "t = np.arange(0, 100, 5)\n",
    "#using CO coefficients since k5 was not changed for HCHO\n",
    "delta_ch4_1ppb_hcho_hv = abs(coeffs_co[1])*np.exp(-t/T_years_hcho_hv[1])+abs(coeffs_co[2])*np.exp(-t/T_years_hcho_hv[2])\n",
    "delta_ch4_1ppb_hcho = abs(coeffs_co[1])*np.exp(-t/T_years_hcho[1])+abs(coeffs_co[2])*np.exp(-t/T_years_hcho[2])\n",
    "delta_ch4_trad = np.exp(-t/9.626224)\n",
    "\n",
    "plt.plot(t, delta_ch4_trad)\n",
    "plt.plot(t,delta_ch4_1ppb_co)\n",
    "plt.plot(t,delta_ch4_1ppb_hcho)#, 'o')\n",
    "plt.plot(t,delta_ch4_1ppb_hcho_hv, 'x')\n",
    "plt.xlabel('Years')\n",
    "plt.ylabel(\"Relative CH4 Abundance (ppb)\")\n",
    "plt.legend([\"Steady-State Lifetime\", \"Pert. Lifetime with CO\", \"Pert. Lifetime with HCHO\", \"Pert. Lifetime with HCHO and Photolysis\"])\n",
    "plt.savefig(\"decay_scenerios.png\")"
   ]
  },
  {
   "cell_type": "code",
   "execution_count": null,
   "id": "7ee53b98-030b-44c3-9657-fdeea64281a5",
   "metadata": {},
   "outputs": [],
   "source": []
  }
 ],
 "metadata": {
  "kernelspec": {
   "display_name": "popy_geo",
   "language": "python",
   "name": "popy_geo"
  },
  "language_info": {
   "codemirror_mode": {
    "name": "ipython",
    "version": 3
   },
   "file_extension": ".py",
   "mimetype": "text/x-python",
   "name": "python",
   "nbconvert_exporter": "python",
   "pygments_lexer": "ipython3",
   "version": "3.11.7"
  }
 },
 "nbformat": 4,
 "nbformat_minor": 5
}
