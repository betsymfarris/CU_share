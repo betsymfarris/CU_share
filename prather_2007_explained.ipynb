{
 "cells": [
  {
   "cell_type": "code",
   "execution_count": 88,
   "id": "88e0aa16-8dc3-4b76-acd2-6cb9ab09b30e",
   "metadata": {},
   "outputs": [],
   "source": [
    "import numpy as np\n",
    "import matplotlib.pyplot as plt\n",
    "from scipy.optimize import curve_fit"
   ]
  },
  {
   "cell_type": "markdown",
   "id": "f95164dd-6115-421c-849d-5b9e75d7fced",
   "metadata": {},
   "source": [
    "## Create the Jacobian"
   ]
  },
  {
   "cell_type": "code",
   "execution_count": 89,
   "id": "3b66cd06-a10a-461e-8f35-9b445618b1c3",
   "metadata": {},
   "outputs": [
    {
     "name": "stdout",
     "output_type": "stream",
     "text": [
      "Jacobian J (∂(d[species]/dt)/∂[species]) in ppb/yr per ppb:\n",
      "∂(d[CH4]/dt)/∂[CH4] = -1.038829e-01\n",
      "∂(d[CH4]/dt)/∂[CO] = 0.000000e+00\n",
      "∂(d[CH4]/dt)/∂[OH] = -6.808325e+06\n",
      "∂(d[CO]/dt)/∂[CH4] = 1.038829e-01\n",
      "∂(d[CO]/dt)/∂[CO] = -4.168445e+00\n",
      "∂(d[CO]/dt)/∂[OH] = -9.224155e+06\n",
      "∂(d[OH]/dt)/∂[CH4] = -1.038829e-01\n",
      "∂(d[OH]/dt)/∂[CO] = -4.168445e+00\n",
      "∂(d[OH]/dt)/∂[OH] = -5.635753e+07\n"
     ]
    }
   ],
   "source": [
    "# From Prather, X value estimated from his final Jacobian values\n",
    "\n",
    "# Initial mixing ratios (ppb)\n",
    "y = np.array([1704, 100, 0.000026])  # [CH4, CO, OH] # modern global mean = 1938 ppb; Prather 2007 = 1704 ppb for methane\n",
    "x_ppb = 0.001  # External sink species (held constant)\n",
    "\n",
    "# Source Terms (ppb yr-1)\n",
    "S = np.array([177, 240, 1464])  # [S_CH4, S_CO, S_OH]\n",
    "\n",
    "# Reaction rates (converted to per year)\n",
    "k5 = 1.266e-4 * 3.156e7  # CH4 + OH (yr-1 ppb-1)\n",
    "k6 = 5.08e-3 * 3.156e7   # CO + OH (yr-1 ppb-1)\n",
    "k7 = 1062 * 3.156e7      # OH + X (yr-1)\n",
    "\n",
    "# Reaction function with x included only internally\n",
    "def reaction_rates(y):\n",
    "    ch4, co, oh = y\n",
    "    R5 = k5 * ch4 * oh\n",
    "    R6 = k6 * co * oh\n",
    "    R7 = k7 * oh * x_ppb  # OH loss to external X\n",
    "    dCH4dt = S[0] - R5\n",
    "    dCOdt = S[1] + R5 - R6\n",
    "    dOHdt = S[2] - R5 - R6 - R7\n",
    "    return np.array([dCH4dt, dCOdt, dOHdt])\n",
    "\n",
    "# Base rate\n",
    "base_rates = reaction_rates(y)\n",
    "\n",
    "# Jacobian (numerical)\n",
    "pert = 1  # 1 ppb\n",
    "J = np.zeros((3, 3))\n",
    "\n",
    "for i in range(3):\n",
    "    y_pert = y.copy()\n",
    "    y_pert[i] += pert\n",
    "    pert_rates = reaction_rates(y_pert)\n",
    "    J[:, i] = (pert_rates - base_rates) / pert\n",
    "\n",
    "# Display Jacobian\n",
    "species = [\"CH4\", \"CO\", \"OH\"]\n",
    "print(\"Jacobian J (∂(d[species]/dt)/∂[species]) in ppb/yr per ppb:\")\n",
    "for i in range(3):\n",
    "    for j in range(3):\n",
    "        print(f\"∂(d[{species[i]}]/dt)/∂[{species[j]}] = {J[i,j]:.6e}\")\n"
   ]
  },
  {
   "cell_type": "code",
   "execution_count": 99,
   "id": "e0a24f6c-4342-42cd-b3fa-0d60fb196f59",
   "metadata": {},
   "outputs": [
    {
     "name": "stdout",
     "output_type": "stream",
     "text": [
      "Eigenvalues:\n",
      "  λ1 = -5.6358e+07\n",
      "  λ2 = -7.3495e-02\n",
      "  λ3 = -3.5040e+00\n",
      "\n",
      "Perturbation lifetimes (in years):\n",
      "  Mode 1: 0.000000018 years\n",
      "  Mode 2: 13.606280603 years\n",
      "  Mode 3: 0.285386143 years\n",
      "\n",
      "Eigenvectors (columns are eigenmodes):\n",
      "[[ 1.18381327e-01 -9.99373217e-01 -1.45978241e-01]\n",
      " [ 1.60387135e-01 -3.54001732e-02  9.89287801e-01]\n",
      " [ 9.79929502e-01  4.46047713e-09 -7.29029032e-08]]\n"
     ]
    }
   ],
   "source": [
    "\n",
    "# Compute eigenvalues and eigenvectors\n",
    "eigenvalues, eigenvectors = np.linalg.eig(J)\n",
    "\n",
    "# Compute lifetimes (in years)\n",
    "T_years = -1 / eigenvalues\n",
    "\n",
    "# Print results\n",
    "print(\"Eigenvalues:\")\n",
    "for i, val in enumerate(eigenvalues):\n",
    "    print(f\"  λ{i+1} = {val:.4e}\")\n",
    "\n",
    "print(\"\\nPerturbation lifetimes (in years):\")\n",
    "for i, T in enumerate(T_years):\n",
    "    print(f\"  Mode {i+1}: {T.real:.9f} years\")\n",
    "\n",
    "print(\"\\nEigenvectors (columns are eigenmodes):\")\n",
    "print(eigenvectors)\n",
    "\n",
    "\n",
    "\n",
    "t = np.arange(0, 100, 5)\n",
    "\n",
    "delta_ch4_1ppb = 0.995*np.exp(-t/T_years[1])+0.005*np.exp(-t/T_years[2])\n",
    "\n",
    "delta_ch4_trad = np.exp(-t/9.626224)"
   ]
  },
  {
   "cell_type": "code",
   "execution_count": 103,
   "id": "ed752616-4408-40b0-872e-4f4f74516d79",
   "metadata": {},
   "outputs": [
    {
     "name": "stdout",
     "output_type": "stream",
     "text": [
      "Mode 1:\n",
      "  Eigenvalue (decay rate): -56357525.8788\n",
      "  Lifetime: 0.00 years\n",
      "  Contribution coefficient: 0.0000\n",
      "Mode 2:\n",
      "  Eigenvalue (decay rate): -0.0735\n",
      "  Lifetime: 13.61 years\n",
      "  Contribution coefficient: -0.9954\n",
      "Mode 3:\n",
      "  Eigenvalue (decay rate): -3.5040\n",
      "  Lifetime: 0.29 years\n",
      "  Contribution coefficient: -0.0356\n"
     ]
    }
   ],
   "source": [
    "# Checking delta_ch4_1ppb equation from matric projection (not just copying Prather's text)\n",
    "# X0 = V*c where c is intial conditions\n",
    "# so c=V_inverse*X0\n",
    "# Methane looks right but CO is lower than Prather's 0.005 (ignored OH)\n",
    "\n",
    "Init_1ppb = np.array( [1, 0, 0] ) #sticking with 3x3 even though Prather drops OH\n",
    "V_inv = np.linalg.inv(eigenvectors) #inverse of the eignvectors\n",
    "coeffs = V_inv @ Init_1ppb\n",
    "\n",
    "for i in range(3):\n",
    "    print(f\"Mode {i+1}:\")\n",
    "    print(f\"  Eigenvalue (decay rate): {eigenvalues[i]:.4f}\")\n",
    "    print(f\"  Lifetime: {-1/eigenvalues[i]:.2f} years\")\n",
    "    print(f\"  Contribution coefficient: {coeffs[i]:.4f}\")\n"
   ]
  },
  {
   "cell_type": "code",
   "execution_count": 104,
   "id": "86767e89-a274-45f5-b42b-d964754cd63c",
   "metadata": {},
   "outputs": [
    {
     "data": {
      "text/plain": [
       "<matplotlib.legend.Legend at 0x1460663d0>"
      ]
     },
     "execution_count": 104,
     "metadata": {},
     "output_type": "execute_result"
    },
    {
     "data": {
      "image/png": "[encoded data removed]",
      "text/plain": [
       "<Figure size 640x480 with 1 Axes>"
      ]
     },
     "metadata": {},
     "output_type": "display_data"
    }
   ],
   "source": [
    "plt.plot(t,1850*delta_ch4_1ppb)\n",
    "plt.plot(t, 1850*delta_ch4_trad)\n",
    "plt.xlabel('Years')\n",
    "plt.ylabel(\"Relative CH4 Abundance (ppb)\")\n",
    "plt.legend([\"Pert. Lifetime\", \"SS Lifetime\"])"
   ]
  },
  {
   "cell_type": "code",
   "execution_count": 106,
   "id": "20b9c2f9-1e77-4dfd-975f-93f5c8f31f3e",
   "metadata": {},
   "outputs": [
    {
     "name": "stdout",
     "output_type": "stream",
     "text": [
      "Negative Inverse of Diagonal of Jacobian (∂(d[species]/dt)/∂[same species]): Traditional Lifetime\n",
      "∂(d[CH4]/dt)/∂[CH4] = 9.626224e+00\n",
      "∂(d[CO]/dt)/∂[CO] = 2.398976e-01\n",
      "∂(d[OH]/dt)/∂[OH] = 1.774386e-08\n"
     ]
    }
   ],
   "source": [
    "diag = np.diag(J)\n",
    "species = [\"CH4\", \"CO\", \"OH\"]\n",
    "\n",
    "print(\"Negative Inverse of Diagonal of Jacobian (∂(d[species]/dt)/∂[same species]): Traditional Lifetime\")\n",
    "for i in range(3):\n",
    "    print(f\"∂(d[{species[i]}]/dt)/∂[{species[i]}] = {-1/diag[i]:.6e}\")"
   ]
  }
 ],
 "metadata": {
  "kernelspec": {
   "display_name": "popy_geo",
   "language": "python",
   "name": "popy_geo"
  },
  "language_info": {
   "codemirror_mode": {
    "name": "ipython",
    "version": 3
   },
   "file_extension": ".py",
   "mimetype": "text/x-python",
   "name": "python",
   "nbconvert_exporter": "python",
   "pygments_lexer": "ipython3",
   "version": "3.11.7"
  }
 },
 "nbformat": 4,
 "nbformat_minor": 5
}
